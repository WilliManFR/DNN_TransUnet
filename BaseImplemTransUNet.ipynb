{
  "nbformat": 4,
  "nbformat_minor": 0,
  "metadata": {
    "colab": {
      "provenance": []
    },
    "kernelspec": {
      "name": "python3",
      "display_name": "Python 3"
    },
    "language_info": {
      "name": "python"
    },
    "accelerator": "GPU",
    "gpuClass": "standard"
  },
  "cells": [
    {
      "cell_type": "code",
      "source": [
        "!wget https://github.com/Beckschen/TransUNet/archive/main.zip"
      ],
      "metadata": {
        "id": "-rDiDf7eH6ax"
      },
      "execution_count": null,
      "outputs": []
    },
    {
      "cell_type": "code",
      "source": [
        "!unzip main.zip"
      ],
      "metadata": {
        "id": "sE76epRRHvV8"
      },
      "execution_count": null,
      "outputs": []
    },
    {
      "cell_type": "code",
      "source": [
        "cd TransUNet-main/"
      ],
      "metadata": {
        "id": "eo_I5e6NIH-5"
      },
      "execution_count": null,
      "outputs": []
    },
    {
      "cell_type": "code",
      "source": [
        "# Model name R50-ViT-B_16"
      ],
      "metadata": {
        "id": "p04UhjTAI1R6"
      },
      "execution_count": null,
      "outputs": []
    },
    {
      "cell_type": "code",
      "source": [
        "!wget https://storage.googleapis.com/vit_models/imagenet21k/R50%2BViT-B_16.npz\n",
        "!mkdir ../model/\n",
        "!mkdir ../model/vit_checkpoint\n",
        "!mkdir ../model/vit_checkpoint/imagenet21k\n",
        "!mv R50+ViT-B_16.npz ../model/vit_checkpoint/imagenet21k/ #R50-ViT-B_16.npz"
      ],
      "metadata": {
        "id": "hw-mwdnkKeui"
      },
      "execution_count": null,
      "outputs": []
    },
    {
      "cell_type": "code",
      "source": [
        "from google.colab import drive\n",
        "drive.mount('/content/drive')"
      ],
      "metadata": {
        "id": "Zi2RKeiUaPPS"
      },
      "execution_count": null,
      "outputs": []
    },
    {
      "cell_type": "code",
      "source": [
        "cp ../drive/MyDrive/project_transunet/project_TransUNet.zip ."
      ],
      "metadata": {
        "id": "VrF7ZiWBMlCn"
      },
      "execution_count": null,
      "outputs": []
    },
    {
      "cell_type": "code",
      "source": [
        "!unzip project_TransUNet.zip"
      ],
      "metadata": {
        "id": "eSAgnNSzOIYH"
      },
      "execution_count": null,
      "outputs": []
    },
    {
      "cell_type": "code",
      "source": [
        "!mkdir ../data"
      ],
      "metadata": {
        "id": "yuXgbDikOczK"
      },
      "execution_count": null,
      "outputs": []
    },
    {
      "cell_type": "code",
      "source": [
        "!mv project_TransUNet/data/* ../data"
      ],
      "metadata": {
        "id": "MfV_aNikOd0R"
      },
      "execution_count": null,
      "outputs": []
    },
    {
      "cell_type": "code",
      "source": [
        "%pip install -r requirements.txt"
      ],
      "metadata": {
        "id": "jh7ODcQ4OsNv"
      },
      "execution_count": null,
      "outputs": []
    },
    {
      "cell_type": "code",
      "source": [
        "!CUDA_VISIBLE_DEVICES=0 python train.py --dataset Synapse --vit_name R50-ViT-B_16"
      ],
      "metadata": {
        "id": "I4CG6NgBOjrZ"
      },
      "execution_count": null,
      "outputs": []
    },
    {
      "cell_type": "code",
      "source": [
        "!python test.py --dataset Synapse --vit_name R50-ViT-B_16"
      ],
      "metadata": {
        "id": "yYzjP_3-WCtZ"
      },
      "execution_count": null,
      "outputs": []
    },
    {
      "cell_type": "code",
      "source": [
        "!ls ../model/TU_Synapse224/"
      ],
      "metadata": {
        "id": "3jlLIOUhO06M"
      },
      "execution_count": null,
      "outputs": []
    }
  ]
}